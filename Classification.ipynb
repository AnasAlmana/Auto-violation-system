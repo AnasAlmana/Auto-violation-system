{
 "cells": [
  {
   "cell_type": "code",
   "execution_count": 13,
   "id": "f150e26b",
   "metadata": {},
   "outputs": [],
   "source": [
    "from tensorflow.keras.layers import Input, Lambda, Dense, Flatten,Dropout\n",
    "from tensorflow.keras.models import Model\n",
    "from tensorflow.keras.applications.vgg19 import VGG19\n",
    "from tensorflow.keras.applications.vgg19 import preprocess_input\n",
    "from tensorflow.keras.preprocessing import image\n",
    "from tensorflow.keras.preprocessing.image import ImageDataGenerator\n",
    "from tensorflow.keras.models import Sequential\n",
    "import numpy as np\n",
    "import pandas as pd\n",
    "import os\n",
    "import cv2\n",
    "import matplotlib.pyplot as plt"
   ]
  },
  {
   "cell_type": "code",
   "execution_count": 14,
   "id": "3bf82f1f",
   "metadata": {},
   "outputs": [],
   "source": [
    "train_path=\"F:/Data/Data/classification/train_val/train\"\n",
    "test_path=\"F:/Data/Data/classification/test\"\n",
    "val_path=\"F:/Data/Data/classification/train_val/val\""
   ]
  },
  {
   "cell_type": "code",
   "execution_count": 15,
   "id": "125b24f7",
   "metadata": {},
   "outputs": [],
   "source": [
    "x_train=[]\n",
    "\n",
    "for folder in os.listdir(train_path):\n",
    "\n",
    "    sub_path=train_path+\"/\"+folder\n",
    "\n",
    "    for img in os.listdir(sub_path):\n",
    "\n",
    "        image_path=sub_path+\"/\"+img\n",
    "\n",
    "        img_arr=cv2.imread(image_path)\n",
    "\n",
    "        img_arr=cv2.resize(img_arr,(250,250))\n",
    "\n",
    "        x_train.append(img_arr)\n",
    "\n",
    "x_test=[]\n",
    "\n",
    "for folder in os.listdir(test_path):\n",
    "\n",
    "    sub_path=test_path+\"/\"+folder\n",
    "\n",
    "    for img in os.listdir(sub_path):\n",
    "\n",
    "        image_path=sub_path+\"/\"+img\n",
    "\n",
    "        img_arr=cv2.imread(image_path)\n",
    "\n",
    "        img_arr=cv2.resize(img_arr,(250,250))\n",
    "\n",
    "        x_test.append(img_arr)\n",
    "\n",
    "x_val=[]\n",
    "\n",
    "for folder in os.listdir(val_path):\n",
    "\n",
    "    sub_path=val_path+\"/\"+folder\n",
    "\n",
    "    for img in os.listdir(sub_path):\n",
    "\n",
    "        image_path=sub_path+\"/\"+img\n",
    "\n",
    "        img_arr=cv2.imread(image_path)\n",
    "\n",
    "        img_arr=cv2.resize(img_arr,(250,250))\n",
    "\n",
    "        x_val.append(img_arr)"
   ]
  },
  {
   "cell_type": "code",
   "execution_count": 16,
   "id": "95119aed",
   "metadata": {},
   "outputs": [],
   "source": [
    "train_x=np.array(x_train)\n",
    "test_x=np.array(x_test)\n",
    "val_x=np.array(x_val)"
   ]
  },
  {
   "cell_type": "code",
   "execution_count": 17,
   "id": "3192c989",
   "metadata": {},
   "outputs": [],
   "source": [
    "train_datagen = ImageDataGenerator(rotation_range=45)\n",
    "test_datagen = ImageDataGenerator(rotation_range=45)\n",
    "val_datagen = ImageDataGenerator(rotation_range=45)"
   ]
  },
  {
   "cell_type": "code",
   "execution_count": 18,
   "id": "184a022c",
   "metadata": {},
   "outputs": [
    {
     "name": "stdout",
     "output_type": "stream",
     "text": [
      "Found 1344 images belonging to 4 classes.\n",
      "Found 416 images belonging to 4 classes.\n",
      "Found 332 images belonging to 4 classes.\n"
     ]
    }
   ],
   "source": [
    "training_set = train_datagen.flow_from_directory(train_path,\n",
    "                                                 target_size = (250,250),\n",
    "                                                 batch_size = 8,\n",
    "                                                 class_mode = 'sparse')\n",
    "test_set = test_datagen.flow_from_directory(test_path,\n",
    "                                            target_size = (250,250),\n",
    "                                            batch_size = 8,\n",
    "                                            class_mode = 'sparse')\n",
    "val_set = val_datagen.flow_from_directory(val_path,\n",
    "                                            target_size = (250,250),\n",
    "                                            batch_size = 8,\n",
    "                                            class_mode = 'sparse')"
   ]
  },
  {
   "cell_type": "code",
   "execution_count": 19,
   "id": "eacf3d74",
   "metadata": {},
   "outputs": [],
   "source": [
    "train_y=training_set.classes\n",
    "test_y=test_set.classes\n",
    "val_y=val_set.classes"
   ]
  },
  {
   "cell_type": "code",
   "execution_count": 20,
   "id": "63a2473c",
   "metadata": {},
   "outputs": [
    {
     "data": {
      "text/plain": [
       "{'NoSeatBelt': 0, 'NoSeatBelt_Phone': 1, 'SeatBelt': 2, 'SeatBelt_Phone': 3}"
      ]
     },
     "execution_count": 20,
     "metadata": {},
     "output_type": "execute_result"
    }
   ],
   "source": [
    "training_set.class_indices"
   ]
  },
  {
   "cell_type": "code",
   "execution_count": 38,
   "id": "dd04997d",
   "metadata": {},
   "outputs": [
    {
     "data": {
      "text/plain": [
       "((1344,), (416,), (332,))"
      ]
     },
     "execution_count": 38,
     "metadata": {},
     "output_type": "execute_result"
    }
   ],
   "source": [
    "train_y.shape,test_y.shape,val_y.shape"
   ]
  },
  {
   "cell_type": "code",
   "execution_count": 39,
   "id": "4a853faf",
   "metadata": {},
   "outputs": [],
   "source": [
    "from tensorflow.keras.applications import ResNet50\n",
    "\n",
    "IMAGE_SIZE = [250,250]\n",
    "vgg = VGG19(input_shape=IMAGE_SIZE + [3], weights='imagenet', include_top=False)\n",
    "#vgg = ResNet50(input_shape=(224,224,3), include_top=False, weights=\"imagenet\")"
   ]
  },
  {
   "cell_type": "code",
   "execution_count": 40,
   "id": "64f0587f",
   "metadata": {},
   "outputs": [],
   "source": [
    "#do not train the pre-trained layers of VGG-19\n",
    "for layer in vgg.layers:\n",
    "    layer.trainable = False"
   ]
  },
  {
   "cell_type": "code",
   "execution_count": 41,
   "id": "05055689",
   "metadata": {},
   "outputs": [],
   "source": [
    "x = Flatten()(vgg.output)"
   ]
  },
  {
   "cell_type": "code",
   "execution_count": 42,
   "id": "20ee2370",
   "metadata": {},
   "outputs": [],
   "source": [
    "#adding output layer.Softmax classifier is used as it is multi-class classification\n",
    "prediction = Dense(4, activation='softmax')(x)\n",
    "\n",
    "model = Model(inputs=vgg.input, outputs=prediction)"
   ]
  },
  {
   "cell_type": "code",
   "execution_count": 43,
   "id": "a3bd290c",
   "metadata": {
    "scrolled": true
   },
   "outputs": [
    {
     "name": "stdout",
     "output_type": "stream",
     "text": [
      "Model: \"model_1\"\n",
      "_________________________________________________________________\n",
      " Layer (type)                Output Shape              Param #   \n",
      "=================================================================\n",
      " input_2 (InputLayer)        [(None, 250, 250, 3)]     0         \n",
      "                                                                 \n",
      " block1_conv1 (Conv2D)       (None, 250, 250, 64)      1792      \n",
      "                                                                 \n",
      " block1_conv2 (Conv2D)       (None, 250, 250, 64)      36928     \n",
      "                                                                 \n",
      " block1_pool (MaxPooling2D)  (None, 125, 125, 64)      0         \n",
      "                                                                 \n",
      " block2_conv1 (Conv2D)       (None, 125, 125, 128)     73856     \n",
      "                                                                 \n",
      " block2_conv2 (Conv2D)       (None, 125, 125, 128)     147584    \n",
      "                                                                 \n",
      " block2_pool (MaxPooling2D)  (None, 62, 62, 128)       0         \n",
      "                                                                 \n",
      " block3_conv1 (Conv2D)       (None, 62, 62, 256)       295168    \n",
      "                                                                 \n",
      " block3_conv2 (Conv2D)       (None, 62, 62, 256)       590080    \n",
      "                                                                 \n",
      " block3_conv3 (Conv2D)       (None, 62, 62, 256)       590080    \n",
      "                                                                 \n",
      " block3_conv4 (Conv2D)       (None, 62, 62, 256)       590080    \n",
      "                                                                 \n",
      " block3_pool (MaxPooling2D)  (None, 31, 31, 256)       0         \n",
      "                                                                 \n",
      " block4_conv1 (Conv2D)       (None, 31, 31, 512)       1180160   \n",
      "                                                                 \n",
      " block4_conv2 (Conv2D)       (None, 31, 31, 512)       2359808   \n",
      "                                                                 \n",
      " block4_conv3 (Conv2D)       (None, 31, 31, 512)       2359808   \n",
      "                                                                 \n",
      " block4_conv4 (Conv2D)       (None, 31, 31, 512)       2359808   \n",
      "                                                                 \n",
      " block4_pool (MaxPooling2D)  (None, 15, 15, 512)       0         \n",
      "                                                                 \n",
      " block5_conv1 (Conv2D)       (None, 15, 15, 512)       2359808   \n",
      "                                                                 \n",
      " block5_conv2 (Conv2D)       (None, 15, 15, 512)       2359808   \n",
      "                                                                 \n",
      " block5_conv3 (Conv2D)       (None, 15, 15, 512)       2359808   \n",
      "                                                                 \n",
      " block5_conv4 (Conv2D)       (None, 15, 15, 512)       2359808   \n",
      "                                                                 \n",
      " block5_pool (MaxPooling2D)  (None, 7, 7, 512)         0         \n",
      "                                                                 \n",
      " flatten_1 (Flatten)         (None, 25088)             0         \n",
      "                                                                 \n",
      " dense_1 (Dense)             (None, 4)                 100356    \n",
      "                                                                 \n",
      "=================================================================\n",
      "Total params: 20,124,740\n",
      "Trainable params: 100,356\n",
      "Non-trainable params: 20,024,384\n",
      "_________________________________________________________________\n"
     ]
    }
   ],
   "source": [
    "# view the structure of the model\n",
    "model.summary()"
   ]
  },
  {
   "cell_type": "code",
   "execution_count": 44,
   "id": "d6399963",
   "metadata": {},
   "outputs": [],
   "source": [
    "model.compile(\n",
    "  loss='sparse_categorical_crossentropy',\n",
    "  optimizer=\"adam\",\n",
    "  metrics=['accuracy']\n",
    ")"
   ]
  },
  {
   "cell_type": "code",
   "execution_count": 45,
   "id": "f050ff78",
   "metadata": {},
   "outputs": [],
   "source": [
    "from tensorflow.keras.callbacks import EarlyStopping\n",
    "early_stop=EarlyStopping(monitor='val_loss',mode='min',verbose=1,patience=5)\n",
    "#Early stopping to avoid overfitting of model"
   ]
  },
  {
   "cell_type": "code",
   "execution_count": 47,
   "id": "8ef3902f",
   "metadata": {
    "scrolled": false
   },
   "outputs": [
    {
     "name": "stdout",
     "output_type": "stream",
     "text": [
      "Epoch 1/40\n",
      "168/168 [==============================] - 10s 61ms/step - loss: 0.8203 - accuracy: 0.9754 - val_loss: 14.6150 - val_accuracy: 0.8916\n",
      "Epoch 2/40\n",
      "168/168 [==============================] - 10s 60ms/step - loss: 1.5830 - accuracy: 0.9702 - val_loss: 10.3622 - val_accuracy: 0.8855\n",
      "Epoch 3/40\n",
      "168/168 [==============================] - 10s 60ms/step - loss: 1.7833 - accuracy: 0.9643 - val_loss: 13.8284 - val_accuracy: 0.8494\n",
      "Epoch 4/40\n",
      "168/168 [==============================] - 10s 60ms/step - loss: 1.6423 - accuracy: 0.9650 - val_loss: 13.4623 - val_accuracy: 0.9036\n",
      "Epoch 5/40\n",
      "168/168 [==============================] - 10s 60ms/step - loss: 1.8349 - accuracy: 0.9710 - val_loss: 14.4912 - val_accuracy: 0.8494\n",
      "Epoch 6/40\n",
      "168/168 [==============================] - 10s 60ms/step - loss: 0.7164 - accuracy: 0.9821 - val_loss: 12.5607 - val_accuracy: 0.8976\n",
      "Epoch 7/40\n",
      "168/168 [==============================] - 10s 60ms/step - loss: 0.6176 - accuracy: 0.9844 - val_loss: 17.2721 - val_accuracy: 0.8283\n",
      "Epoch 8/40\n",
      "168/168 [==============================] - 10s 60ms/step - loss: 0.4922 - accuracy: 0.9866 - val_loss: 26.5286 - val_accuracy: 0.8193\n",
      "Epoch 9/40\n",
      "168/168 [==============================] - 10s 60ms/step - loss: 1.0340 - accuracy: 0.9807 - val_loss: 11.9320 - val_accuracy: 0.9006\n",
      "Epoch 10/40\n",
      "168/168 [==============================] - 10s 60ms/step - loss: 0.7907 - accuracy: 0.9859 - val_loss: 11.0150 - val_accuracy: 0.9157\n",
      "Epoch 11/40\n",
      "168/168 [==============================] - 10s 60ms/step - loss: 1.6434 - accuracy: 0.9762 - val_loss: 21.1046 - val_accuracy: 0.8554\n",
      "Epoch 12/40\n",
      "168/168 [==============================] - 10s 60ms/step - loss: 1.6989 - accuracy: 0.9747 - val_loss: 16.3510 - val_accuracy: 0.8855\n",
      "Epoch 13/40\n",
      "168/168 [==============================] - 10s 60ms/step - loss: 1.3234 - accuracy: 0.9792 - val_loss: 11.5940 - val_accuracy: 0.9187\n",
      "Epoch 14/40\n",
      "168/168 [==============================] - 10s 60ms/step - loss: 0.2783 - accuracy: 0.9933 - val_loss: 12.8145 - val_accuracy: 0.8886\n",
      "Epoch 15/40\n",
      "168/168 [==============================] - 10s 60ms/step - loss: 1.3720 - accuracy: 0.9784 - val_loss: 15.2860 - val_accuracy: 0.9066\n",
      "Epoch 16/40\n",
      "168/168 [==============================] - 10s 60ms/step - loss: 0.4183 - accuracy: 0.9926 - val_loss: 17.0580 - val_accuracy: 0.9157\n",
      "Epoch 17/40\n",
      "168/168 [==============================] - 10s 60ms/step - loss: 0.6259 - accuracy: 0.9888 - val_loss: 17.1548 - val_accuracy: 0.9066\n",
      "Epoch 18/40\n",
      "168/168 [==============================] - 10s 60ms/step - loss: 0.8019 - accuracy: 0.9881 - val_loss: 19.5783 - val_accuracy: 0.8765\n",
      "Epoch 19/40\n",
      "168/168 [==============================] - 10s 60ms/step - loss: 1.2791 - accuracy: 0.9807 - val_loss: 20.8672 - val_accuracy: 0.8735\n",
      "Epoch 20/40\n",
      "168/168 [==============================] - 10s 61ms/step - loss: 0.9093 - accuracy: 0.9829 - val_loss: 20.9402 - val_accuracy: 0.8795\n",
      "Epoch 21/40\n",
      "168/168 [==============================] - 10s 60ms/step - loss: 1.5291 - accuracy: 0.9754 - val_loss: 18.8304 - val_accuracy: 0.8916\n",
      "Epoch 22/40\n",
      "168/168 [==============================] - 10s 60ms/step - loss: 0.4289 - accuracy: 0.9926 - val_loss: 16.3453 - val_accuracy: 0.9096\n",
      "Epoch 23/40\n",
      "168/168 [==============================] - 10s 60ms/step - loss: 0.1741 - accuracy: 0.9963 - val_loss: 19.0579 - val_accuracy: 0.9006\n",
      "Epoch 24/40\n",
      "168/168 [==============================] - 10s 61ms/step - loss: 0.8783 - accuracy: 0.9851 - val_loss: 13.5384 - val_accuracy: 0.9127\n",
      "Epoch 25/40\n",
      "168/168 [==============================] - 10s 60ms/step - loss: 0.8244 - accuracy: 0.9836 - val_loss: 12.0905 - val_accuracy: 0.9066\n",
      "Epoch 26/40\n",
      "168/168 [==============================] - 10s 60ms/step - loss: 0.7258 - accuracy: 0.9851 - val_loss: 12.1886 - val_accuracy: 0.9066\n",
      "Epoch 27/40\n",
      "168/168 [==============================] - 10s 61ms/step - loss: 0.1149 - accuracy: 0.9970 - val_loss: 14.8188 - val_accuracy: 0.8765\n",
      "Epoch 28/40\n",
      "168/168 [==============================] - 10s 61ms/step - loss: 0.0279 - accuracy: 0.9993 - val_loss: 13.8598 - val_accuracy: 0.9157\n",
      "Epoch 29/40\n",
      "168/168 [==============================] - 10s 61ms/step - loss: 1.6409e-08 - accuracy: 1.0000 - val_loss: 13.6327 - val_accuracy: 0.9247\n",
      "Epoch 30/40\n",
      "168/168 [==============================] - 10s 61ms/step - loss: 1.5965e-08 - accuracy: 1.0000 - val_loss: 13.6326 - val_accuracy: 0.9247\n",
      "Epoch 31/40\n",
      "168/168 [==============================] - 10s 61ms/step - loss: 1.5433e-08 - accuracy: 1.0000 - val_loss: 13.6325 - val_accuracy: 0.9247\n",
      "Epoch 32/40\n",
      "168/168 [==============================] - 10s 61ms/step - loss: 1.4990e-08 - accuracy: 1.0000 - val_loss: 13.6324 - val_accuracy: 0.9247\n",
      "Epoch 33/40\n",
      "168/168 [==============================] - 10s 61ms/step - loss: 1.4546e-08 - accuracy: 1.0000 - val_loss: 13.6324 - val_accuracy: 0.9247\n",
      "Epoch 34/40\n",
      "168/168 [==============================] - 10s 61ms/step - loss: 1.4014e-08 - accuracy: 1.0000 - val_loss: 13.6322 - val_accuracy: 0.9247\n",
      "Epoch 35/40\n",
      "168/168 [==============================] - 10s 61ms/step - loss: 1.3571e-08 - accuracy: 1.0000 - val_loss: 13.6321 - val_accuracy: 0.9247\n",
      "Epoch 36/40\n",
      "168/168 [==============================] - 10s 61ms/step - loss: 1.3127e-08 - accuracy: 1.0000 - val_loss: 13.6320 - val_accuracy: 0.9247\n",
      "Epoch 37/40\n",
      "168/168 [==============================] - 10s 60ms/step - loss: 1.2595e-08 - accuracy: 1.0000 - val_loss: 13.6319 - val_accuracy: 0.9247\n",
      "Epoch 38/40\n",
      "168/168 [==============================] - 10s 60ms/step - loss: 1.2063e-08 - accuracy: 1.0000 - val_loss: 13.6318 - val_accuracy: 0.9247\n",
      "Epoch 39/40\n",
      "168/168 [==============================] - 10s 61ms/step - loss: 1.1619e-08 - accuracy: 1.0000 - val_loss: 13.6316 - val_accuracy: 0.9247\n",
      "Epoch 40/40\n",
      "168/168 [==============================] - 10s 60ms/step - loss: 1.1087e-08 - accuracy: 1.0000 - val_loss: 13.6315 - val_accuracy: 0.9247\n"
     ]
    }
   ],
   "source": [
    "# fit the model\n",
    "history = model.fit(\n",
    "  train_x,\n",
    "  train_y,\n",
    "  validation_data=(val_x,val_y),\n",
    "  epochs=40,\n",
    "  batch_size=8,shuffle=True)"
   ]
  },
  {
   "cell_type": "code",
   "execution_count": 48,
   "id": "cd482ffb",
   "metadata": {},
   "outputs": [
    {
     "name": "stdout",
     "output_type": "stream",
     "text": [
      "13/13 [==============================] - 6s 158ms/step - loss: 10.9045 - accuracy: 0.9087\n"
     ]
    },
    {
     "data": {
      "text/plain": [
       "[10.904470443725586, 0.9086538553237915]"
      ]
     },
     "execution_count": 48,
     "metadata": {},
     "output_type": "execute_result"
    }
   ],
   "source": [
    "model.evaluate (test_x, test_y)"
   ]
  },
  {
   "cell_type": "code",
   "execution_count": 49,
   "id": "a6ec69f7",
   "metadata": {},
   "outputs": [],
   "source": [
    "model.save('model.h5')"
   ]
  }
 ],
 "metadata": {
  "kernelspec": {
   "display_name": "Python 3 (ipykernel)",
   "language": "python",
   "name": "python3"
  },
  "language_info": {
   "codemirror_mode": {
    "name": "ipython",
    "version": 3
   },
   "file_extension": ".py",
   "mimetype": "text/x-python",
   "name": "python",
   "nbconvert_exporter": "python",
   "pygments_lexer": "ipython3",
   "version": "3.9.12"
  }
 },
 "nbformat": 4,
 "nbformat_minor": 5
}
